{
 "cells": [
  {
   "cell_type": "code",
   "execution_count": null,
   "metadata": {
    "collapsed": true
   },
   "outputs": [],
   "source": [
    "# Must log in in ArcGIS Pro to import module\n",
    "from arcgis.gis import GIS\n",
    "import json"
   ]
  },
  {
   "cell_type": "code",
   "execution_count": null,
   "metadata": {
    "collapsed": true
   },
   "outputs": [],
   "source": [
    "# Log in to ArcGIS Online using username and password\n",
    "gis = GIS(\"http://ebrgis.maps.arcgis.com\", \"username\", \"Pa$$w0rd\")"
   ]
  },
  {
   "cell_type": "code",
   "execution_count": null,
   "metadata": {
    "collapsed": true
   },
   "outputs": [],
   "source": [
    "search_result = gis.content.search(query=\"\", item_type=\"Web Map\", max_items=500)"
   ]
  },
  {
   "cell_type": "code",
   "execution_count": null,
   "metadata": {
    "collapsed": true
   },
   "outputs": [],
   "source": [
    "webmapJSON = search_result[0].get_data()"
   ]
  },
  {
   "cell_type": "code",
   "execution_count": null,
   "metadata": {},
   "outputs": [],
   "source": [
    "# Find web maps using a designated layer\n",
    "layer_name = \"City_Limit\" # Enter the layer name displayed in the map server REST link\n",
    "for i in range(0, len(search_result)):\n",
    "    count = 0\n",
    "    webmapJSON = search_result[i].get_data()\n",
    "    \n",
    "    for j in range(0, len(webmapJSON[\"operationalLayers\"])):\n",
    "        try:\n",
    "            if layer_name in webmapJSON[\"operationalLayers\"][j][\"url\"]:\n",
    "                count += 1\n",
    "        except:\n",
    "            pass\n",
    "    \n",
    "    if count > 0:\n",
    "        print(search_result[i])\n",
    "        print(\"--------------------------------------------------\")"
   ]
  },
  {
   "cell_type": "code",
   "execution_count": null,
   "metadata": {
    "collapsed": true
   },
   "outputs": [],
   "source": []
  }
 ],
 "metadata": {
  "kernelspec": {
   "display_name": "Python 3",
   "language": "python",
   "name": "python3"
  },
  "language_info": {
   "codemirror_mode": {
    "name": "ipython",
    "version": 3
   },
   "file_extension": ".py",
   "mimetype": "text/x-python",
   "name": "python",
   "nbconvert_exporter": "python",
   "pygments_lexer": "ipython3",
   "version": "3.6.2"
  }
 },
 "nbformat": 4,
 "nbformat_minor": 2
}
