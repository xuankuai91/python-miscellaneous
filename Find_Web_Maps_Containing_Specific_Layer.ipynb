{
 "cells": [
  {
   "cell_type": "code",
   "execution_count": 1,
   "metadata": {
    "collapsed": true
   },
   "outputs": [],
   "source": [
    "# Must log in in ArcGIS Pro to import module\n",
    "from arcgis.gis import GIS\n",
    "import json"
   ]
  },
  {
   "cell_type": "code",
   "execution_count": 2,
   "metadata": {
    "collapsed": true
   },
   "outputs": [],
   "source": [
    "# Log in to ArcGIS Online using username and password\n",
    "gis = GIS(\"http://ebrgis.maps.arcgis.com\", \"username\", \"Pa$$w0rd\")"
   ]
  },
  {
   "cell_type": "code",
   "execution_count": 3,
   "metadata": {
    "collapsed": true
   },
   "outputs": [],
   "source": [
    "search_result = gis.content.search(query=\"\", item_type=\"Web Map\", max_items=500)"
   ]
  },
  {
   "cell_type": "code",
   "execution_count": 4,
   "metadata": {
    "collapsed": true
   },
   "outputs": [],
   "source": [
    "webmapJSON = search_result[0].get_data()"
   ]
  },
  {
   "cell_type": "code",
   "execution_count": 5,
   "metadata": {},
   "outputs": [
    {
     "name": "stdout",
     "output_type": "stream",
     "text": [
      "<Item title:\"Flood Hazard Area\" type:Web Map owner:wkron>\n",
      "--------------------------------------------------\n",
      "<Item title:\"Transportation Study\" type:Web Map owner:jpriola_ebrgis>\n",
      "--------------------------------------------------\n",
      "<Item title:\"City of Zachary\" type:Web Map owner:wkron>\n",
      "--------------------------------------------------\n",
      "<Item title:\"EBRP Transportation\" type:Web Map owner:jpriola_ebrgis>\n",
      "--------------------------------------------------\n",
      "<Item title:\"ABC Crime Incident Analysis\" type:Web Map owner:wkron>\n",
      "--------------------------------------------------\n",
      "<Item title:\"Elected Officials and Polling Places\" type:Web Map owner:jpriola_ebrgis>\n",
      "--------------------------------------------------\n",
      "<Item title:\"Traffic Signal Routing\" type:Web Map owner:sedel_ebrgis>\n",
      "--------------------------------------------------\n",
      "<Item title:\"2016 Recycling/Sanitation 311 Service Request\" type:Web Map owner:bjjumonville>\n",
      "--------------------------------------------------\n",
      "<Item title:\"City of Saint George Proposed Boundary\" type:Web Map owner:jpriola_ebrgis>\n",
      "--------------------------------------------------\n",
      "<Item title:\"Stormwater Management\" type:Web Map owner:wkron>\n",
      "--------------------------------------------------\n",
      "<Item title:\"Floodplain Land Development\" type:Web Map owner:jpriola_ebrgis>\n",
      "--------------------------------------------------\n",
      "<Item title:\"Sanitary Sewer Infrastructure\" type:Web Map owner:wkron>\n",
      "--------------------------------------------------\n",
      "<Item title:\"Flooded and Abandoned Properties\" type:Web Map owner:jpriola_ebrgis>\n",
      "--------------------------------------------------\n",
      "<Item title:\"Law Enforcement Patrol Areas\" type:Web Map owner:wkron>\n",
      "--------------------------------------------------\n",
      "<Item title:\"Governmental Boundaries\" type:Web Map owner:jpriola_ebrgis>\n",
      "--------------------------------------------------\n",
      "<Item title:\"Public Safety\" type:Web Map owner:jpriola_ebrgis>\n",
      "--------------------------------------------------\n",
      "<Item title:\"Estimated Flood Inundation Area\" type:Web Map owner:jpriola_ebrgis>\n",
      "--------------------------------------------------\n",
      "<Item title:\"Consolidated Road Lighting District\" type:Web Map owner:wkron>\n",
      "--------------------------------------------------\n",
      "<Item title:\"EBRP Planning\" type:Web Map owner:jpriola_ebrgis>\n",
      "--------------------------------------------------\n",
      "<Item title:\"FHWA Local Streets with Bridges\" type:Web Map owner:jpriola_ebrgis>\n",
      "--------------------------------------------------\n",
      "<Item title:\"City of Baker\" type:Web Map owner:wkron>\n",
      "--------------------------------------------------\n",
      "<Item title:\"Alcoholic Beverage Control Licenses\" type:Web Map owner:jpriola_ebrgis>\n",
      "--------------------------------------------------\n",
      "<Item title:\"Street Addressing\" type:Web Map owner:wkron>\n",
      "--------------------------------------------------\n",
      "<Item title:\"River Bend Exercise\" type:Web Map owner:jpriola_ebrgis>\n",
      "--------------------------------------------------\n",
      "<Item title:\"Traffic Signal Routing-Copy\" type:Web Map owner:sedel_ebrgis>\n",
      "--------------------------------------------------\n",
      "<Item title:\"Signal Routes\" type:Web Map owner:sedel_ebrgis>\n",
      "--------------------------------------------------\n"
     ]
    }
   ],
   "source": [
    "# Find web maps using a designated layer\n",
    "layer_name = \"City_Limit\" # Enter the layer name displayed in the map server REST link\n",
    "for i in range(0, len(search_result)):\n",
    "    count = 0\n",
    "    webmapJSON = search_result[i].get_data()\n",
    "    \n",
    "    for j in range(0, len(webmapJSON[\"operationalLayers\"])):\n",
    "        try:\n",
    "            if layer_name in webmapJSON[\"operationalLayers\"][j][\"url\"]:\n",
    "                count += 1\n",
    "        except:\n",
    "            pass\n",
    "    \n",
    "    if count > 0:\n",
    "        print(search_result[i])\n",
    "        print(\"--------------------------------------------------\")"
   ]
  },
  {
   "cell_type": "code",
   "execution_count": null,
   "metadata": {
    "collapsed": true
   },
   "outputs": [],
   "source": []
  }
 ],
 "metadata": {
  "kernelspec": {
   "display_name": "Python 3",
   "language": "python",
   "name": "python3"
  },
  "language_info": {
   "codemirror_mode": {
    "name": "ipython",
    "version": 3
   },
   "file_extension": ".py",
   "mimetype": "text/x-python",
   "name": "python",
   "nbconvert_exporter": "python",
   "pygments_lexer": "ipython3",
   "version": "3.6.2"
  }
 },
 "nbformat": 4,
 "nbformat_minor": 2
}
