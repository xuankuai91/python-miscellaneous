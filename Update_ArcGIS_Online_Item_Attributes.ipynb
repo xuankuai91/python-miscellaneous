{
 "cells": [
  {
   "cell_type": "code",
   "execution_count": null,
   "metadata": {
    "collapsed": true
   },
   "outputs": [],
   "source": [
    "# Must log in in ArcGIS Pro to import module\n",
    "from arcgis.gis import GIS"
   ]
  },
  {
   "cell_type": "code",
   "execution_count": null,
   "metadata": {
    "collapsed": true
   },
   "outputs": [],
   "source": [
    "# Log in to ArcGIS Online using username and password\n",
    "gis = GIS(\"http://ebrgis.maps.arcgis.com\", \"username\", \"Pa$$w0rd\")"
   ]
  },
  {
   "cell_type": "code",
   "execution_count": null,
   "metadata": {
    "collapsed": true
   },
   "outputs": [],
   "source": [
    "search_result = gis.content.search(query=\"\", max_items=1500)"
   ]
  },
  {
   "cell_type": "code",
   "execution_count": null,
   "metadata": {
    "scrolled": true
   },
   "outputs": [],
   "source": [
    "# Insert 'EBRP' to tags\n",
    "for item in search_result:\n",
    "    content = gis.content.get(item.id)\n",
    "    \n",
    "    if 'EBRP' not in content.tags:\n",
    "        print(content.tags)\n",
    "        \n",
    "        try:\n",
    "            new_tags = ''\n",
    "            \n",
    "            for tag in content.tags:\n",
    "                try:\n",
    "                    new_tags += (tag + ', ')\n",
    "                except:\n",
    "                    continue\n",
    "            \n",
    "            new_tags += 'EBRP'\n",
    "        \n",
    "            content.update(item_properties={'tags': new_tags})\n",
    "            print(content.tags)\n",
    "        \n",
    "        except:\n",
    "            print(\"There is an error with the item \" + item.id)\n",
    "        \n",
    "        print('--------------------------------------------------')"
   ]
  },
  {
   "cell_type": "code",
   "execution_count": null,
   "metadata": {
    "scrolled": true
   },
   "outputs": [],
   "source": [
    "# Update Terms of Use\n",
    "for item in search_result:\n",
    "    content = gis.content.get(item.id)\n",
    "    public_text = 'For public use<br /><br />The City of Baton Rouge – Parish of East Baton Rouge provides the information herein for general reference purposes only.  The City-Parish does not assume liability for the misuse or misinterpretation of the information.'\n",
    "    private_text = 'For internal use only'\n",
    "    \n",
    "    try:\n",
    "        if content.access == 'public':\n",
    "            if content.licenseInfo != public_text:\n",
    "                print(item.id)\n",
    "                content.update(item_properties={'licenseInfo': public_text})\n",
    "                print(content.licenseInfo)\n",
    "                print('--------------------------------------------------')\n",
    "        else:\n",
    "            if content.licenseInfo != private_text:\n",
    "                print(item.id)\n",
    "                content.update(item_properties={'licenseInfo': private_text})\n",
    "                print(content.licenseInfo)\n",
    "                print('--------------------------------------------------')\n",
    "    except:\n",
    "        continue"
   ]
  },
  {
   "cell_type": "code",
   "execution_count": null,
   "metadata": {
    "scrolled": true
   },
   "outputs": [],
   "source": [
    "# Add 'EBRGIS' and 'Department of Information Services' to items with no Credits\n",
    "for item in search_result:\n",
    "    content = gis.content.get(item.id)\n",
    "    old_accessText = content.accessInformation\n",
    "    \n",
    "    if old_accessText == None:\n",
    "        print(item.id)\n",
    "        try:\n",
    "            content.update(item_properties={'accessInformation': 'EBRGIS; Department of Information Services'})\n",
    "            print(content.accessInformation)\n",
    "        except:\n",
    "            continue\n",
    "        print('--------------------------------------------------')"
   ]
  },
  {
   "cell_type": "code",
   "execution_count": null,
   "metadata": {
    "collapsed": true
   },
   "outputs": [],
   "source": [
    "# Change 'eBRGIS' in Credits to 'EBRGIS'\n",
    "for item in search_result:\n",
    "    content = gis.content.get(item.id)\n",
    "    old_accessText = content.accessInformation\n",
    "    \n",
    "    try:\n",
    "        if 'eBRGIS' in old_accessText:\n",
    "            print(item.id)\n",
    "            print(old_accessText)\n",
    "            new_accessText = old_accessText.replace('eBRGIS', 'EBRGIS')\n",
    "            content.update(item_properties={'accessInformation': new_accessText})\n",
    "            print(content.accessInformation)\n",
    "            print('--------------------------------------------------')\n",
    "    except:\n",
    "        continue"
   ]
  },
  {
   "cell_type": "code",
   "execution_count": null,
   "metadata": {
    "scrolled": true
   },
   "outputs": [],
   "source": [
    "# Add 'EBRGIS' to items with no 'EBRGIS' Credits\n",
    "for item in search_result:\n",
    "    content = gis.content.get(item.id)\n",
    "    old_accessText = content.accessInformation\n",
    "    \n",
    "    try:\n",
    "        if 'EBRGIS' not in old_accessText:\n",
    "            print(item.id)\n",
    "            print(old_accessText)\n",
    "            new_accessText = 'EBRGIS; ' + old_accessText\n",
    "            content.update(item_properties={'accessInformation': new_accessText})\n",
    "            print(content.accessInformation)\n",
    "            print('--------------------------------------------------')\n",
    "    except:\n",
    "        continue"
   ]
  },
  {
   "cell_type": "code",
   "execution_count": null,
   "metadata": {
    "collapsed": true
   },
   "outputs": [],
   "source": [
    "# Add 'Department of Information Services' to items with no 'Department of Information Services' Credits\n",
    "for item in search_result:\n",
    "    content = gis.content.get(item.id)\n",
    "    old_accessText = content.accessInformation\n",
    "    \n",
    "    try:\n",
    "        if 'Department of Information Services' not in old_accessText:\n",
    "            print(item.id)\n",
    "            print(old_accessText)\n",
    "            new_accessText = old_accessText + '; Department of Information Services'\n",
    "            content.update(item_properties={'accessInformation': new_accessText})\n",
    "            print(content.accessInformation)\n",
    "            print('--------------------------------------------------')\n",
    "    except:\n",
    "        continue"
   ]
  },
  {
   "cell_type": "code",
   "execution_count": null,
   "metadata": {
    "collapsed": true
   },
   "outputs": [],
   "source": []
  }
 ],
 "metadata": {
  "kernelspec": {
   "display_name": "Python 3",
   "language": "python",
   "name": "python3"
  },
  "language_info": {
   "codemirror_mode": {
    "name": "ipython",
    "version": 3
   },
   "file_extension": ".py",
   "mimetype": "text/x-python",
   "name": "python",
   "nbconvert_exporter": "python",
   "pygments_lexer": "ipython3",
   "version": "3.6.2"
  }
 },
 "nbformat": 4,
 "nbformat_minor": 2
}
