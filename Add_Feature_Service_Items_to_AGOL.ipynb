{
 "cells": [
  {
   "cell_type": "code",
   "execution_count": null,
   "metadata": {},
   "outputs": [],
   "source": [
    "# Must log in in ArcGIS Pro to import module\n",
    "import arcpy, re\n",
    "from arcgis.gis import GIS"
   ]
  },
  {
   "cell_type": "code",
   "execution_count": null,
   "metadata": {},
   "outputs": [],
   "source": [
    "# Extract raw text from tagged HTML string\n",
    "def clean_html(html):\n",
    "    rule = re.compile('<.*?>')\n",
    "    text = re.sub(rule, '', html)\n",
    "    return text"
   ]
  },
  {
   "cell_type": "code",
   "execution_count": null,
   "metadata": {},
   "outputs": [],
   "source": [
    "# Filling default text when string is null\n",
    "def write_missing_text(text):\n",
    "    if text is None:\n",
    "        return \"This product, data, and/or tool is for informational purposes only and may not have been prepared for or be suitable for legal, engineering, or surveying purposes. It does not represent an on-the-ground survey and represents only the approximate relative location of property boundaries. Mapping may not reflect on the ground conditions. The Houston-Galveston Area Council makes no further claims as to the accuracy or reliability of the data, and neither assumes, nor will accept liability for their use. Use or reproduction of this data without acknowledging the Houston-Galveston Area Council as the source is strictly prohibited.\"\n",
    "    else:\n",
    "        return text"
   ]
  },
  {
   "cell_type": "code",
   "execution_count": null,
   "metadata": {},
   "outputs": [],
   "source": [
    "# Log on to ArcGIS Online and initialize\n",
    "gis = GIS(\"https://h-gac.maps.arcgis.com\", username=\"username\", password=\"P@$$w0rd\")\n",
    "project = arcpy.mp.ArcGISProject(r\"\\\\Hgac.net\\FileShare\\ArcGIS\\DataSvcs\\GIS\\Open_Data\\Open_Data.aprx\")\n",
    "maps = project.listMaps()"
   ]
  },
  {
   "cell_type": "code",
   "execution_count": null,
   "metadata": {},
   "outputs": [],
   "source": [
    "# Add feature layer to ArcGIS Online\n",
    "for map in maps:\n",
    "    if map.name not in [\"Boundaries\", \"Land Cover\"]:\n",
    "        layers = map.listLayers()\n",
    "        count = 0\n",
    "\n",
    "        for layer in layers:\n",
    "            layer_name = r\"\\\\Hgac.net\\FileShare\\ArcGIS\\DataSvcs\\GIS\\Open_Data\\Global_SDE.sde\\Global.GLOBAL_ADMIN.\" + layer.name\n",
    "            layer_metadata = arcpy.metadata.Metadata(layer_name)\n",
    "            \n",
    "            description = clean_html(layer_metadata.description)\n",
    "            url = \"http://gis.h-gac.com/arcgis/rest/services/Open_Data/{}/MapServer/{}\".format(map.name, str(count))\n",
    "            tags = \"Open Data, \" + layer_metadata.tags\n",
    "            license_info = write_missing_text(layer_metadata.accessConstraints)\n",
    "\n",
    "            layer_properties = {\n",
    "                'description': description,\n",
    "                'title': layer,\n",
    "                'url': url,\n",
    "                'tags': tags,\n",
    "                'snippet': layer_metadata.summary,\n",
    "                'accessInformation': layer_metadata.credits,\n",
    "                'licenseInfo': license_info,\n",
    "                'type': \"Feature Service\",\n",
    "                'access': \"public\"\n",
    "            }\n",
    "\n",
    "            agol_layer = gis.content.add(layer_properties, folder=\"Open_Data\")\n",
    "\n",
    "            count += 1\n",
    "            \n",
    "        else:\n",
    "            continue"
   ]
  },
  {
   "cell_type": "code",
   "execution_count": null,
   "metadata": {},
   "outputs": [],
   "source": []
  }
 ],
 "metadata": {
  "kernelspec": {
   "display_name": "Python 3",
   "language": "python",
   "name": "python3"
  },
  "language_info": {
   "codemirror_mode": {
    "name": "ipython",
    "version": 3
   },
   "file_extension": ".py",
   "mimetype": "text/x-python",
   "name": "python",
   "nbconvert_exporter": "python",
   "pygments_lexer": "ipython3",
   "version": "3.6.9"
  }
 },
 "nbformat": 4,
 "nbformat_minor": 2
}
